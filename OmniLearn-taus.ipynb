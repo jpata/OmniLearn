{
 "cells": [
  {
   "cell_type": "code",
   "execution_count": 1,
   "id": "94bc0944-e298-4d08-b42e-8fcafda114fd",
   "metadata": {},
   "outputs": [
    {
     "name": "stderr",
     "output_type": "stream",
     "text": [
      "2024-05-03 15:14:25.704471: E tensorflow/compiler/xla/stream_executor/cuda/cuda_dnn.cc:9360] Unable to register cuDNN factory: Attempting to register factory for plugin cuDNN when one has already been registered\n",
      "2024-05-03 15:14:25.704494: E tensorflow/compiler/xla/stream_executor/cuda/cuda_fft.cc:609] Unable to register cuFFT factory: Attempting to register factory for plugin cuFFT when one has already been registered\n",
      "2024-05-03 15:14:25.704520: E tensorflow/compiler/xla/stream_executor/cuda/cuda_blas.cc:1537] Unable to register cuBLAS factory: Attempting to register factory for plugin cuBLAS when one has already been registered\n",
      "2024-05-03 15:14:25.710123: I tensorflow/core/platform/cpu_feature_guard.cc:183] This TensorFlow binary is optimized to use available CPU instructions in performance-critical operations.\n",
      "To enable the following instructions: SSE3 SSE4.1 SSE4.2 AVX, in other operations, rebuild TensorFlow with the appropriate compiler flags.\n"
     ]
    }
   ],
   "source": [
    "import os\n",
    "os.environ[\"KERAS_BACKEND\"] = \"tensorflow\"\n",
    "import tensorflow as tf\n",
    "import numpy as np\n",
    "import keras\n",
    "\n",
    "import sys\n",
    "sys.path.append(\"scripts\")\n",
    "import utils\n",
    "from PET import PET\n",
    "\n",
    "import matplotlib.pyplot as plt"
   ]
  },
  {
   "cell_type": "code",
   "execution_count": 2,
   "id": "a83a2452",
   "metadata": {},
   "outputs": [],
   "source": [
    "tf.config.run_functions_eagerly(False)"
   ]
  },
  {
   "cell_type": "code",
   "execution_count": 3,
   "id": "496a64a0",
   "metadata": {},
   "outputs": [],
   "source": [
    "import awkward\n",
    "import vector\n",
    "\n",
    "def to_p4(p4_obj):\n",
    "    return vector.awk(\n",
    "        awkward.zip(\n",
    "            {\n",
    "                \"mass\": p4_obj.tau,\n",
    "                \"x\": p4_obj.x,\n",
    "                \"y\": p4_obj.y,\n",
    "                \"z\": p4_obj.z,\n",
    "            }\n",
    "        )\n",
    "    )\n",
    "\n",
    "def deltaphi(phi1, phi2):\n",
    "    diff = phi1 - phi2\n",
    "    return np.arctan2(np.sin(diff), np.cos(diff))\n",
    "\n",
    "def deltar(eta1, phi1, eta2, phi2):\n",
    "    deta = eta1 - eta2\n",
    "    dphi = deltaphi(phi1, phi2)\n",
    "    return np.sqrt(deta**2 + dphi**2)"
   ]
  },
  {
   "cell_type": "code",
   "execution_count": 4,
   "id": "6befe447-e662-4229-a30f-73902740eb4b",
   "metadata": {
    "scrolled": true
   },
   "outputs": [
    {
     "name": "stderr",
     "output_type": "stream",
     "text": [
      "2024-05-03 15:14:29.543405: I tensorflow/compiler/xla/stream_executor/cuda/cuda_gpu_executor.cc:894] successful NUMA node read from SysFS had negative value (-1), but there must be at least one NUMA node, so returning NUMA node zero. See more at https://github.com/torvalds/linux/blob/v6.0/Documentation/ABI/testing/sysfs-bus-pci#L344-L355\n",
      "2024-05-03 15:14:29.551605: I tensorflow/compiler/xla/stream_executor/cuda/cuda_gpu_executor.cc:894] successful NUMA node read from SysFS had negative value (-1), but there must be at least one NUMA node, so returning NUMA node zero. See more at https://github.com/torvalds/linux/blob/v6.0/Documentation/ABI/testing/sysfs-bus-pci#L344-L355\n",
      "2024-05-03 15:14:29.553018: I tensorflow/compiler/xla/stream_executor/cuda/cuda_gpu_executor.cc:894] successful NUMA node read from SysFS had negative value (-1), but there must be at least one NUMA node, so returning NUMA node zero. See more at https://github.com/torvalds/linux/blob/v6.0/Documentation/ABI/testing/sysfs-bus-pci#L344-L355\n",
      "2024-05-03 15:14:29.555331: I tensorflow/compiler/xla/stream_executor/cuda/cuda_gpu_executor.cc:894] successful NUMA node read from SysFS had negative value (-1), but there must be at least one NUMA node, so returning NUMA node zero. See more at https://github.com/torvalds/linux/blob/v6.0/Documentation/ABI/testing/sysfs-bus-pci#L344-L355\n",
      "2024-05-03 15:14:29.556775: I tensorflow/compiler/xla/stream_executor/cuda/cuda_gpu_executor.cc:894] successful NUMA node read from SysFS had negative value (-1), but there must be at least one NUMA node, so returning NUMA node zero. See more at https://github.com/torvalds/linux/blob/v6.0/Documentation/ABI/testing/sysfs-bus-pci#L344-L355\n",
      "2024-05-03 15:14:29.558105: I tensorflow/compiler/xla/stream_executor/cuda/cuda_gpu_executor.cc:894] successful NUMA node read from SysFS had negative value (-1), but there must be at least one NUMA node, so returning NUMA node zero. See more at https://github.com/torvalds/linux/blob/v6.0/Documentation/ABI/testing/sysfs-bus-pci#L344-L355\n",
      "2024-05-03 15:14:29.680301: I tensorflow/compiler/xla/stream_executor/cuda/cuda_gpu_executor.cc:894] successful NUMA node read from SysFS had negative value (-1), but there must be at least one NUMA node, so returning NUMA node zero. See more at https://github.com/torvalds/linux/blob/v6.0/Documentation/ABI/testing/sysfs-bus-pci#L344-L355\n",
      "2024-05-03 15:14:29.682060: I tensorflow/compiler/xla/stream_executor/cuda/cuda_gpu_executor.cc:894] successful NUMA node read from SysFS had negative value (-1), but there must be at least one NUMA node, so returning NUMA node zero. See more at https://github.com/torvalds/linux/blob/v6.0/Documentation/ABI/testing/sysfs-bus-pci#L344-L355\n",
      "2024-05-03 15:14:29.683551: I tensorflow/compiler/xla/stream_executor/cuda/cuda_gpu_executor.cc:894] successful NUMA node read from SysFS had negative value (-1), but there must be at least one NUMA node, so returning NUMA node zero. See more at https://github.com/torvalds/linux/blob/v6.0/Documentation/ABI/testing/sysfs-bus-pci#L344-L355\n",
      "2024-05-03 15:14:29.684714: I tensorflow/core/common_runtime/gpu/gpu_device.cc:1883] Created device /job:localhost/replica:0/task:0/device:GPU:0 with 6646 MB memory:  -> device: 0, name: NVIDIA GeForce RTX 2060 SUPER, pci bus id: 0000:01:00.0, compute capability: 7.5\n"
     ]
    }
   ],
   "source": [
    "model = PET(\n",
    "    num_feat=13,\n",
    "    num_jet=4,\n",
    "    num_classes=10,\n",
    "    local=True,\n",
    "    num_layers=8,\n",
    "    drop_probability=0,\n",
    "    simple=False,\n",
    "    layer_scale=True,\n",
    "    talking_head=False,\n",
    "    mode=\"all\"\n",
    ")"
   ]
  },
  {
   "cell_type": "code",
   "execution_count": 5,
   "id": "c2e701f1",
   "metadata": {},
   "outputs": [
    {
     "name": "stdout",
     "output_type": "stream",
     "text": [
      "32 (32, 100, 128)\n"
     ]
    },
    {
     "name": "stderr",
     "output_type": "stream",
     "text": [
      "/usr/local/lib/python3.10/dist-packages/keras/src/engine/functional.py:642: UserWarning: Input dict contained keys ['input_jet'] which did not match any model input. They will be ignored by the model.\n",
      "  inputs = self._flatten_to_reference_inputs(inputs)\n"
     ]
    }
   ],
   "source": [
    "x = {}\n",
    "x[\"input_features\"] = tf.zeros((32, 100, 13))\n",
    "x[\"input_points\"] = tf.zeros((32, 100, 2))\n",
    "x[\"input_mask\"] = tf.zeros((32, 100))\n",
    "x[\"input_jet\"] = tf.zeros((32, 4))\n",
    "x[\"input_time\"] = tf.zeros((32, 1))\n",
    "\n",
    "model(x)\n",
    "out = model.body(x)\n",
    "print(len(out), out.shape)"
   ]
  },
  {
   "cell_type": "code",
   "execution_count": 6,
   "id": "ca000ed4-2aa9-4a77-8de0-2a58b289eab0",
   "metadata": {},
   "outputs": [
    {
     "name": "stdout",
     "output_type": "stream",
     "text": [
      "Model: \"pet\"\n",
      "_________________________________________________________________\n",
      " Layer (type)                Output Shape              Param #   \n",
      "=================================================================\n",
      " PET_body (Functional)       (None, None, 128)         1318784   \n",
      "                                                                 \n",
      " classifier_head (Functiona  [(None, 10),              269326    \n",
      " l)                           (None, 4)]                         \n",
      "                                                                 \n",
      " generator_head (Functional  (None, None, 13)          417165    \n",
      " )                                                               \n",
      "                                                                 \n",
      " classifier (Functional)     [(None, 10),              1588110   \n",
      "                              (None, 4)]                         \n",
      "                                                                 \n",
      " generator (Functional)      (None, None, 13)          1735949   \n",
      "                                                                 \n",
      " ema (Functional)            (None, None, 128)         1318784   \n",
      "                                                                 \n",
      " ema_head (Functional)       (None, None, 13)          417165    \n",
      "                                                                 \n",
      "=================================================================\n",
      "Total params: 3741236 (14.27 MB)\n",
      "Trainable params: 3741224 (14.27 MB)\n",
      "Non-trainable params: 12 (48.00 Byte)\n",
      "_________________________________________________________________\n"
     ]
    }
   ],
   "source": [
    "model.summary()\n",
    "model.load_weights(\"checkpoints/PET_jetclass_8_local_layer_scale_token_baseline_all.weights.h5\", by_name=True)"
   ]
  },
  {
   "cell_type": "code",
   "execution_count": 7,
   "id": "311ae706",
   "metadata": {},
   "outputs": [],
   "source": [
    "data = awkward.from_parquet(\"../ml-tau-en-reg/data/zh.parquet\")"
   ]
  },
  {
   "cell_type": "code",
   "execution_count": 8,
   "id": "1b8d352d",
   "metadata": {},
   "outputs": [
    {
     "name": "stderr",
     "output_type": "stream",
     "text": [
      "/usr/local/lib/python3.10/dist-packages/awkward/_nplikes/array_module.py:245: RuntimeWarning: divide by zero encountered in log\n",
      "  return impl(*broadcasted_args, **(kwargs or {}))\n",
      "/usr/local/lib/python3.10/dist-packages/awkward/_nplikes/array_module.py:245: RuntimeWarning: invalid value encountered in log\n",
      "  return impl(*broadcasted_args, **(kwargs or {}))\n"
     ]
    }
   ],
   "source": [
    "reco_cand_p4s = to_p4(data[\"reco_cand_p4s\"])\n",
    "reco_jet_p4s = to_p4(data[\"reco_jet_p4s\"])\n",
    "\n",
    "delta_eta = reco_cand_p4s.eta - reco_jet_p4s.eta\n",
    "delta_phi = deltaphi(reco_cand_p4s.phi, reco_jet_p4s.phi)\n",
    "log_pt = np.log(reco_cand_p4s.pt)\n",
    "log_e = np.log(reco_cand_p4s.energy)\n",
    "log_ptjet = np.log(1 - reco_cand_p4s.pt/reco_jet_p4s.pt)\n",
    "log_ejet = np.log(1 - reco_cand_p4s.energy/reco_jet_p4s.energy)\n",
    "delta_r = deltar(reco_cand_p4s.eta, reco_cand_p4s.phi, reco_jet_p4s.eta, reco_jet_p4s.phi)\n",
    "charge = data[\"reco_cand_charge\"]\n",
    "is_ele = np.abs(data[\"reco_cand_pdg\"])==11\n",
    "is_mu = np.abs(data[\"reco_cand_pdg\"])==13\n",
    "is_photon = np.abs(data[\"reco_cand_pdg\"])==22\n",
    "is_chhad = np.abs(data[\"reco_cand_pdg\"])==210\n",
    "is_nhad = np.abs(data[\"reco_cand_pdg\"])==130"
   ]
  },
  {
   "cell_type": "code",
   "execution_count": 9,
   "id": "76e7a577",
   "metadata": {},
   "outputs": [],
   "source": [
    "pad_size = 64 #max number of particles per jet\n",
    "fill_val = 0 #fill value of padded data\n",
    "\n",
    "#create particle array in the shape [njets, pad_size, 13]\n",
    "vals = [\n",
    "    awkward.to_numpy(\n",
    "        awkward.fill_none(\n",
    "            awkward.pad_none(\n",
    "                x, pad_size, clip=True), fill_val\n",
    "        )\n",
    "    ) for x in [delta_eta, delta_phi, log_pt, log_e, log_ptjet, log_ejet, delta_r, charge, is_ele, is_mu, is_photon, is_chhad, is_nhad]\n",
    "]\n",
    "particles = np.stack(vals, axis=-1)\n",
    "particles[np.isnan(particles)] = 0\n",
    "particles[np.isinf(particles)] = 0\n",
    "particles_mask = (~awkward.to_numpy(awkward.pad_none(delta_eta, pad_size, clip=True)).mask).astype(np.float32)\n",
    "\n",
    "#normalize particles\n",
    "means_particle = particles[np.squeeze(particles_mask==1)].mean(axis=0)\n",
    "stds_particle = particles[np.squeeze(particles_mask==1)].std(axis=0)\n",
    "stds_particle[stds_particle==0] = 1\n",
    "particles = (particles - means_particle)/stds_particle\n",
    "\n",
    "#create jet array in the shape [njets, 4]\n",
    "jets = awkward.to_numpy(np.stack([\n",
    "    reco_jet_p4s.pt,\n",
    "    reco_jet_p4s.eta,\n",
    "    reco_jet_p4s.mass,\n",
    "    awkward.num(reco_cand_p4s)], axis=-1)\n",
    ")\n",
    "jets[np.isnan(jets)] = 0\n",
    "jets[np.isinf(jets)] = 0\n",
    "\n",
    "#normalize jets\n",
    "means_jet = jets.mean(axis=0)\n",
    "stds_jet = jets.std(axis=0)\n",
    "stds_jet[stds_jet==0] = 1\n",
    "jets = (jets - means_jet)/stds_jet\n"
   ]
  },
  {
   "cell_type": "code",
   "execution_count": 10,
   "id": "a7381908",
   "metadata": {},
   "outputs": [
    {
     "data": {
      "text/plain": [
       "(array([-1.81484866e-04, -4.42451595e-04,  1.64661402e+00,  1.91612564e+00,\n",
       "        -3.49537160e-01, -5.56091975e-01,  8.88749957e-02,  2.68606613e-04,\n",
       "         1.65204057e-02,  1.70791603e-03,  4.93146355e-01,  0.00000000e+00,\n",
       "         1.08669180e-01]),\n",
       " array([0.10679366, 0.12574273, 1.65159405, 1.54891286, 0.63094431,\n",
       "        1.98268285, 0.13898771, 0.63101854, 0.12746561, 0.04129163,\n",
       "        0.49995303, 1.        , 0.3112237 ]))"
      ]
     },
     "execution_count": 10,
     "metadata": {},
     "output_type": "execute_result"
    }
   ],
   "source": [
    "means_particle, stds_particle"
   ]
  },
  {
   "cell_type": "code",
   "execution_count": 11,
   "id": "2f89f1db",
   "metadata": {},
   "outputs": [
    {
     "data": {
      "text/plain": [
       "(array([ 6.16619602e+01, -4.30674452e-04,  3.52147311e+00,  4.28605183e+00]),\n",
       " array([32.83552096,  0.68882761,  4.5377347 ,  3.19867077]))"
      ]
     },
     "execution_count": 11,
     "metadata": {},
     "output_type": "execute_result"
    }
   ],
   "source": [
    "means_jet, stds_jet"
   ]
  },
  {
   "cell_type": "code",
   "execution_count": 12,
   "id": "5c4486af",
   "metadata": {},
   "outputs": [
    {
     "data": {
      "text/plain": [
       "((530722, 64, 13), (530722, 64), (530722, 4))"
      ]
     },
     "execution_count": 12,
     "metadata": {},
     "output_type": "execute_result"
    }
   ],
   "source": [
    "particles.shape, particles_mask.shape, jets.shape"
   ]
  },
  {
   "cell_type": "code",
   "execution_count": 13,
   "id": "313a47d5",
   "metadata": {},
   "outputs": [],
   "source": [
    "targets = awkward.to_numpy(data[\"gen_jet_tau_decaymode\"])"
   ]
  },
  {
   "cell_type": "code",
   "execution_count": 14,
   "id": "4bc147e8",
   "metadata": {},
   "outputs": [],
   "source": [
    "def prepare_data(start, stop):\n",
    "    x = {}\n",
    "    x[\"input_features\"] = particles[start:stop]\n",
    "    x[\"input_points\"] = particles[start:stop, :, :2]\n",
    "    x[\"input_mask\"] = np.expand_dims(particles_mask[start:stop], axis=-1)\n",
    "    x[\"input_jet\"] = jets[start:stop]\n",
    "    x[\"input_time\"] = np.zeros((stop-start, 1))\n",
    "    y = targets[start:stop]\n",
    "    return x, y"
   ]
  },
  {
   "cell_type": "code",
   "execution_count": 15,
   "id": "7f9c0cfc",
   "metadata": {},
   "outputs": [],
   "source": [
    "from tensorflow.keras import layers\n",
    "from layers import StochasticDepth, TalkingHeadAttention, LayerScale, RandomDrop\n",
    "\n",
    "def get_encoding(x, projection_dim, use_bias=True):\n",
    "    x = layers.Dense(2*projection_dim, use_bias=use_bias, activation='gelu')(x)\n",
    "    x = layers.Dense(projection_dim, use_bias=use_bias, activation='gelu')(x)\n",
    "    return x\n",
    "\n",
    "def FourierProjection(x,projection_dim,num_embed=64):    \n",
    "    half_dim = num_embed // 2\n",
    "    emb = tf.math.log(10000.0) / (half_dim - 1)\n",
    "    emb = tf.cast(emb,tf.float32)\n",
    "    freq = tf.exp(-emb* tf.range(start=0, limit=half_dim, dtype=tf.float32))\n",
    "\n",
    "\n",
    "    angle = x*freq*1000.0\n",
    "    embedding = tf.concat([tf.math.sin(angle),tf.math.cos(angle)],-1)*x\n",
    "    embedding = layers.Dense(2*projection_dim,activation=\"swish\",use_bias=False)(embedding)\n",
    "    embedding = layers.Dense(projection_dim,activation=\"swish\",use_bias=False)(embedding)\n",
    "    \n",
    "    return embedding\n",
    "\n",
    "def knn(num_points, k, topk_indices, features):\n",
    "    # topk_indices: (N, P, K)\n",
    "    # features: (N, P, C)    \n",
    "    batch_size = tf.shape(features)[0]\n",
    "\n",
    "    batch_indices = tf.reshape(tf.range(batch_size), (-1, 1, 1))\n",
    "    batch_indices = tf.tile(batch_indices, (1, num_points, k))\n",
    "    indices = tf.stack([batch_indices, topk_indices], axis=-1)\n",
    "    return tf.gather_nd(features, indices)\n",
    "\n",
    "def get_neighbors(points,features,projection_dim,K):\n",
    "    drij = pairwise_distance(points)  # (N, P, P)\n",
    "    _, indices = tf.nn.top_k(-drij, k=K + 1)  # (N, P, K+1)\n",
    "    indices = indices[:, :, 1:]  # (N, P, K)\n",
    "    knn_fts = knn(tf.shape(points)[1], K, indices, features)  # (N, P, K, C)\n",
    "    knn_fts_center = tf.broadcast_to(tf.expand_dims(features, 2), tf.shape(knn_fts))\n",
    "    local = tf.concat([knn_fts-knn_fts_center,knn_fts_center],-1)\n",
    "    local = layers.Dense(2*projection_dim,activation='gelu')(local)\n",
    "    local = layers.Dense(projection_dim,activation='gelu')(local)\n",
    "    local = tf.reduce_mean(local,-2)\n",
    "    \n",
    "    return local\n",
    "\n",
    "def pairwise_distance(point_cloud):\n",
    "    r = tf.reduce_sum(point_cloud * point_cloud, axis=2, keepdims=True)\n",
    "    m = tf.matmul(point_cloud, point_cloud, transpose_b = True)\n",
    "    D = r - 2 * m + tf.transpose(r, perm=(0, 2, 1)) + 1e-5\n",
    "    return D\n",
    "\n",
    "\n",
    "class TransformerModel(keras.Model):\n",
    "    def __init__(self,\n",
    "                 use_backbone,\n",
    "                 num_feat,\n",
    "                 num_jet,      \n",
    "                 num_classes=2):\n",
    "        \n",
    "        super(TransformerModel, self).__init__()\n",
    "        \n",
    "        self.projection_dim = model.projection_dim\n",
    "        self.num_heads = model.num_heads\n",
    "        \n",
    "        self.feature_drop = model.feature_drop\n",
    "        self.num_keep = model.num_keep\n",
    "        self.mode = model.mode\n",
    "        self.num_layers = model.num_layers\n",
    "        self.layer_scale = model.layer_scale\n",
    "        self.layer_scale_init = model.layer_scale_init\n",
    "        self.drop_probability = model.drop_probability\n",
    "        self.dropout = model.dropout\n",
    "        \n",
    "        self._input_features = layers.Input(shape=(None, num_feat), name='input_features')\n",
    "        self._input_points = layers.Input(shape=(None, 2), name='input_points')\n",
    "        self._input_mask = layers.Input(shape=(None, 1), name='input_mask')\n",
    "        self._input_jet = layers.Input((num_jet, ),name='input_jet')\n",
    "        self._input_time = layers.Input((None, ),name='input_time')\n",
    "\n",
    "        if use_backbone:\n",
    "            self.backbone_body = self.PET_body(\n",
    "                self._input_features,\n",
    "                self._input_points,\n",
    "                self._input_mask,\n",
    "                self._input_time,\n",
    "                True,\n",
    "                10,\n",
    "                2,\n",
    "                False\n",
    "            )\n",
    "            self.backbone = keras.Model(\n",
    "                inputs=[self._input_features, self._input_points, self._input_mask, self._input_time],\n",
    "                outputs=[self.backbone_body], name=\"backbone\"\n",
    "            )\n",
    "\n",
    "            particles_encoded = self.backbone_body\n",
    "        else:\n",
    "            particles_encoded = get_encoding(self._input_features, self.projection_dim)\n",
    "\n",
    "        for ilayer in range(2):\n",
    "            updates = layers.MultiHeadAttention(\n",
    "                num_heads=self.num_heads,\n",
    "                key_dim=self.projection_dim//self.num_heads)(\n",
    "                query=particles_encoded, value=particles_encoded, key=particles_encoded)\n",
    "            particles_encoded = layers.Add()([updates, particles_encoded])\n",
    "            particles_encoded = layers.GroupNormalization(groups=1)(particles_encoded)\n",
    "            particles_encoded = layers.Dense(self.projection_dim)(particles_encoded)\n",
    "        \n",
    "        representation = layers.GlobalAveragePooling1D()(particles_encoded)\n",
    "        jet_encoded = get_encoding(self._input_jet, self.projection_dim)\n",
    "        representation = layers.Dense(self.projection_dim,activation='gelu')(representation+jet_encoded)\n",
    "        outputs_dm_pred = layers.Dense(num_classes, activation=\"softmax\")(representation)\n",
    "        \n",
    "        self.decaymode_head = keras.Model(\n",
    "            inputs=[self._input_features, self._input_points, self._input_mask, self._input_jet, self._input_time],\n",
    "            outputs=[outputs_dm_pred], name=\"decaymode_head\"\n",
    "        )\n",
    "\n",
    "    def PET_body(self,\n",
    "                 input_features,\n",
    "                 input_points,\n",
    "                 input_mask,\n",
    "                 input_time,\n",
    "                 local, K,num_local,\n",
    "                 talking_head,\n",
    "                 ):\n",
    "            \n",
    "        #Randomly drop features not present in other datasets\n",
    "        encoded = RandomDrop(self.feature_drop if  'all' in self.mode else 0.0,num_skip=self.num_keep)(input_features)                        \n",
    "        encoded = get_encoding(encoded,self.projection_dim)\n",
    "\n",
    "        time = FourierProjection(input_time,self.projection_dim)\n",
    "        time = tf.tile(time[:,None, :], [1,tf.shape(encoded)[1], 1])*input_mask\n",
    "        time = layers.Dense(2*self.projection_dim,activation='gelu',use_bias=False)(time)\n",
    "        scale,shift = tf.split(time,2,-1)\n",
    "        \n",
    "        encoded = encoded*(1.0+scale) + shift\n",
    "        \n",
    "        if local:\n",
    "            coord_shift = tf.multiply(999., tf.cast(tf.equal(input_mask, 0), dtype='float32'))        \n",
    "            points = input_points[:,:,:2]\n",
    "            local_features = input_features\n",
    "            for _ in range(num_local):\n",
    "                local_features = get_neighbors(coord_shift+points,local_features,self.projection_dim,K)\n",
    "                points = local_features\n",
    "                \n",
    "            encoded = layers.Add()([local_features,encoded])\n",
    "\n",
    "        skip_connection = encoded\n",
    "        for i in range(self.num_layers):\n",
    "            x1 = layers.GroupNormalization(groups=1)(encoded)\n",
    "            if talking_head:\n",
    "                updates, _ = TalkingHeadAttention(self.projection_dim, self.num_heads, 0.0)(x1)\n",
    "            else:\n",
    "                updates = layers.MultiHeadAttention(num_heads=self.num_heads,\n",
    "                                                    key_dim=self.projection_dim//self.num_heads)(x1,x1)\n",
    "\n",
    "            if self.layer_scale:\n",
    "                updates = LayerScale(self.layer_scale_init, self.projection_dim)(updates,input_mask)\n",
    "            updates = StochasticDepth(self.drop_probability)(updates)\n",
    "            x2 = layers.Add()([updates,encoded])\n",
    "            x3 = layers.GroupNormalization(groups=1)(x2)\n",
    "            x3 = layers.Dense(2*self.projection_dim,activation=\"gelu\")(x3)\n",
    "            x3 = layers.Dropout(self.dropout)(x3)\n",
    "            x3 = layers.Dense(self.projection_dim)(x3)\n",
    "            if self.layer_scale:\n",
    "                x3 = LayerScale(self.layer_scale_init, self.projection_dim)(x3,input_mask)\n",
    "            x3 = StochasticDepth(self.drop_probability)(x3)\n",
    "            encoded = layers.Add()([x3,x2])*input_mask\n",
    "        return encoded + skip_connection\n",
    "    \n",
    "    def call(self, x):\n",
    "        ret = self.decaymode_head([\n",
    "            x[\"input_features\"], x[\"input_points\"], x[\"input_mask\"], x[\"input_jet\"], x[\"input_time\"]\n",
    "        ])\n",
    "        return ret"
   ]
  },
  {
   "cell_type": "code",
   "execution_count": 16,
   "id": "ac03962f",
   "metadata": {},
   "outputs": [],
   "source": [
    "model_dm_direct = TransformerModel(False, 13, 4, 16)\n",
    "x, y = prepare_data(0, 256)\n",
    "model_dm_direct(x)\n",
    "\n",
    "model_dm_bb = TransformerModel(True, 13, 4, 16)\n",
    "x, y = prepare_data(0, 256)\n",
    "model_dm_bb(x)\n",
    "model_dm_bb.backbone.set_weights(model.body.weights)\n",
    "model_dm_bb.backbone.trainable = False"
   ]
  },
  {
   "cell_type": "code",
   "execution_count": 17,
   "id": "e5a10b4f",
   "metadata": {},
   "outputs": [
    {
     "name": "stdout",
     "output_type": "stream",
     "text": [
      "Model: \"transformer_model\"\n",
      "_________________________________________________________________\n",
      " Layer (type)                Output Shape              Param #   \n",
      "=================================================================\n",
      " decaymode_head (Functional  (None, 16)                254864    \n",
      " )                                                               \n",
      "                                                                 \n",
      "=================================================================\n",
      "Total params: 254864 (995.56 KB)\n",
      "Trainable params: 254864 (995.56 KB)\n",
      "Non-trainable params: 0 (0.00 Byte)\n",
      "_________________________________________________________________\n"
     ]
    }
   ],
   "source": [
    "model_dm_direct.summary()"
   ]
  },
  {
   "cell_type": "code",
   "execution_count": 18,
   "id": "43dd0f13",
   "metadata": {},
   "outputs": [],
   "source": [
    "X_train, y_train = prepare_data(0, 50000)\n",
    "X_val, y_val = prepare_data(50000, 100000)"
   ]
  },
  {
   "cell_type": "code",
   "execution_count": 19,
   "id": "d6a3780a",
   "metadata": {
    "scrolled": false
   },
   "outputs": [
    {
     "name": "stdout",
     "output_type": "stream",
     "text": [
      "Epoch 1/100\n"
     ]
    },
    {
     "name": "stderr",
     "output_type": "stream",
     "text": [
      "2024-05-03 15:14:49.322190: I tensorflow/compiler/xla/service/service.cc:168] XLA service 0x55bbc6087b20 initialized for platform CUDA (this does not guarantee that XLA will be used). Devices:\n",
      "2024-05-03 15:14:49.322209: I tensorflow/compiler/xla/service/service.cc:176]   StreamExecutor device (0): NVIDIA GeForce RTX 2060 SUPER, Compute Capability 7.5\n",
      "2024-05-03 15:14:49.326389: I tensorflow/compiler/mlir/tensorflow/utils/dump_mlir_util.cc:269] disabling MLIR crash reproducer, set env var `MLIR_CRASH_REPRODUCER_DIRECTORY` to enable.\n",
      "2024-05-03 15:14:49.340490: I tensorflow/compiler/xla/stream_executor/cuda/cuda_dnn.cc:442] Loaded cuDNN version 8907\n",
      "2024-05-03 15:14:49.389165: I ./tensorflow/compiler/jit/device_compiler.h:186] Compiled cluster using XLA!  This line is logged at most once for the lifetime of the process.\n"
     ]
    },
    {
     "name": "stdout",
     "output_type": "stream",
     "text": [
      "196/196 [==============================] - 9s 27ms/step - loss: 1.1603 - val_loss: 0.7274\n",
      "Epoch 2/100\n",
      "196/196 [==============================] - 5s 24ms/step - loss: 0.6181 - val_loss: 0.5616\n",
      "Epoch 3/100\n",
      "196/196 [==============================] - 5s 24ms/step - loss: 0.5309 - val_loss: 0.5105\n",
      "Epoch 4/100\n",
      "196/196 [==============================] - 5s 24ms/step - loss: 0.4969 - val_loss: 0.4851\n",
      "Epoch 5/100\n",
      "196/196 [==============================] - 5s 24ms/step - loss: 0.4734 - val_loss: 0.4699\n",
      "Epoch 6/100\n",
      "196/196 [==============================] - 5s 24ms/step - loss: 0.4538 - val_loss: 0.4646\n",
      "Epoch 7/100\n",
      "196/196 [==============================] - 5s 24ms/step - loss: 0.4470 - val_loss: 0.4440\n",
      "Epoch 8/100\n",
      "196/196 [==============================] - 5s 24ms/step - loss: 0.4349 - val_loss: 0.4407\n",
      "Epoch 9/100\n",
      "196/196 [==============================] - 5s 24ms/step - loss: 0.4299 - val_loss: 0.4280\n",
      "Epoch 10/100\n",
      "196/196 [==============================] - 5s 23ms/step - loss: 0.4225 - val_loss: 0.4283\n",
      "Epoch 11/100\n",
      "196/196 [==============================] - 5s 24ms/step - loss: 0.4156 - val_loss: 0.4239\n",
      "Epoch 12/100\n",
      "196/196 [==============================] - 5s 24ms/step - loss: 0.4131 - val_loss: 0.4148\n",
      "Epoch 13/100\n",
      "196/196 [==============================] - 5s 24ms/step - loss: 0.4070 - val_loss: 0.4131\n",
      "Epoch 14/100\n",
      "196/196 [==============================] - 5s 24ms/step - loss: 0.4054 - val_loss: 0.4213\n",
      "Epoch 15/100\n",
      "196/196 [==============================] - 5s 24ms/step - loss: 0.4022 - val_loss: 0.4171\n",
      "Epoch 16/100\n",
      "196/196 [==============================] - 5s 24ms/step - loss: 0.3983 - val_loss: 0.4117\n",
      "Epoch 17/100\n",
      "196/196 [==============================] - 5s 24ms/step - loss: 0.3964 - val_loss: 0.3998\n",
      "Epoch 18/100\n",
      "196/196 [==============================] - 5s 24ms/step - loss: 0.3927 - val_loss: 0.4032\n",
      "Epoch 19/100\n",
      "196/196 [==============================] - 5s 24ms/step - loss: 0.3894 - val_loss: 0.4052\n",
      "Epoch 20/100\n",
      "196/196 [==============================] - 5s 24ms/step - loss: 0.3862 - val_loss: 0.3967\n",
      "Epoch 21/100\n",
      "196/196 [==============================] - 5s 24ms/step - loss: 0.3842 - val_loss: 0.3974\n",
      "Epoch 22/100\n",
      "196/196 [==============================] - 5s 24ms/step - loss: 0.3838 - val_loss: 0.3956\n",
      "Epoch 23/100\n",
      "196/196 [==============================] - 5s 24ms/step - loss: 0.3803 - val_loss: 0.3943\n",
      "Epoch 24/100\n",
      "196/196 [==============================] - 5s 24ms/step - loss: 0.3772 - val_loss: 0.4194\n",
      "Epoch 25/100\n",
      "196/196 [==============================] - 5s 24ms/step - loss: 0.3744 - val_loss: 0.3892\n",
      "Epoch 26/100\n",
      "196/196 [==============================] - 5s 24ms/step - loss: 0.3730 - val_loss: 0.3921\n",
      "Epoch 27/100\n",
      "196/196 [==============================] - 5s 24ms/step - loss: 0.3693 - val_loss: 0.3835\n",
      "Epoch 28/100\n",
      "196/196 [==============================] - 5s 24ms/step - loss: 0.3689 - val_loss: 0.3810\n",
      "Epoch 29/100\n",
      "196/196 [==============================] - 5s 24ms/step - loss: 0.3667 - val_loss: 0.3810\n",
      "Epoch 30/100\n",
      "196/196 [==============================] - 5s 24ms/step - loss: 0.3635 - val_loss: 0.3770\n",
      "Epoch 31/100\n",
      "196/196 [==============================] - 5s 24ms/step - loss: 0.3630 - val_loss: 0.3775\n",
      "Epoch 32/100\n",
      "196/196 [==============================] - 5s 24ms/step - loss: 0.3604 - val_loss: 0.3736\n",
      "Epoch 33/100\n",
      "196/196 [==============================] - 5s 24ms/step - loss: 0.3583 - val_loss: 0.3878\n",
      "Epoch 34/100\n",
      "196/196 [==============================] - 5s 24ms/step - loss: 0.3573 - val_loss: 0.3838\n",
      "Epoch 35/100\n",
      "196/196 [==============================] - 5s 24ms/step - loss: 0.3554 - val_loss: 0.3770\n",
      "Epoch 36/100\n",
      "196/196 [==============================] - 5s 24ms/step - loss: 0.3532 - val_loss: 0.3692\n",
      "Epoch 37/100\n",
      "196/196 [==============================] - 5s 24ms/step - loss: 0.3524 - val_loss: 0.3722\n",
      "Epoch 38/100\n",
      "196/196 [==============================] - 5s 24ms/step - loss: 0.3511 - val_loss: 0.3688\n",
      "Epoch 39/100\n",
      "196/196 [==============================] - 5s 24ms/step - loss: 0.3498 - val_loss: 0.3675\n",
      "Epoch 40/100\n",
      "196/196 [==============================] - 5s 24ms/step - loss: 0.3497 - val_loss: 0.3793\n",
      "Epoch 41/100\n",
      "196/196 [==============================] - 5s 24ms/step - loss: 0.3464 - val_loss: 0.3653\n",
      "Epoch 42/100\n",
      "196/196 [==============================] - 5s 24ms/step - loss: 0.3464 - val_loss: 0.3691\n",
      "Epoch 43/100\n",
      "196/196 [==============================] - 5s 24ms/step - loss: 0.3449 - val_loss: 0.3786\n",
      "Epoch 44/100\n",
      "196/196 [==============================] - 5s 24ms/step - loss: 0.3456 - val_loss: 0.3675\n",
      "Epoch 45/100\n",
      "196/196 [==============================] - 5s 24ms/step - loss: 0.3437 - val_loss: 0.3689\n",
      "Epoch 46/100\n",
      "196/196 [==============================] - 5s 24ms/step - loss: 0.3426 - val_loss: 0.3647\n",
      "Epoch 47/100\n",
      "196/196 [==============================] - 5s 24ms/step - loss: 0.3403 - val_loss: 0.3687\n",
      "Epoch 48/100\n",
      "196/196 [==============================] - 5s 24ms/step - loss: 0.3405 - val_loss: 0.3649\n",
      "Epoch 49/100\n",
      "196/196 [==============================] - 5s 24ms/step - loss: 0.3382 - val_loss: 0.3670\n",
      "Epoch 50/100\n",
      "196/196 [==============================] - 5s 24ms/step - loss: 0.3380 - val_loss: 0.3648\n",
      "Epoch 51/100\n",
      "196/196 [==============================] - 5s 24ms/step - loss: 0.3374 - val_loss: 0.3651\n",
      "Epoch 52/100\n",
      "196/196 [==============================] - 5s 24ms/step - loss: 0.3365 - val_loss: 0.3661\n",
      "Epoch 53/100\n",
      "196/196 [==============================] - 5s 24ms/step - loss: 0.3356 - val_loss: 0.3577\n",
      "Epoch 54/100\n",
      "196/196 [==============================] - 5s 24ms/step - loss: 0.3330 - val_loss: 0.3606\n",
      "Epoch 55/100\n",
      "196/196 [==============================] - 5s 24ms/step - loss: 0.3336 - val_loss: 0.3675\n",
      "Epoch 56/100\n",
      "196/196 [==============================] - 5s 24ms/step - loss: 0.3328 - val_loss: 0.3649\n",
      "Epoch 57/100\n",
      "196/196 [==============================] - 5s 24ms/step - loss: 0.3315 - val_loss: 0.3679\n",
      "Epoch 58/100\n",
      "196/196 [==============================] - 5s 24ms/step - loss: 0.3317 - val_loss: 0.3602\n",
      "Epoch 59/100\n",
      "196/196 [==============================] - 5s 24ms/step - loss: 0.3304 - val_loss: 0.3604\n",
      "Epoch 60/100\n",
      "196/196 [==============================] - 5s 24ms/step - loss: 0.3286 - val_loss: 0.3591\n",
      "Epoch 61/100\n",
      "196/196 [==============================] - 5s 24ms/step - loss: 0.3275 - val_loss: 0.3564\n",
      "Epoch 62/100\n",
      "196/196 [==============================] - 5s 24ms/step - loss: 0.3273 - val_loss: 0.3548\n",
      "Epoch 63/100\n",
      "196/196 [==============================] - 5s 24ms/step - loss: 0.3262 - val_loss: 0.3565\n",
      "Epoch 64/100\n",
      "196/196 [==============================] - 5s 24ms/step - loss: 0.3256 - val_loss: 0.3548\n",
      "Epoch 65/100\n",
      "196/196 [==============================] - 5s 24ms/step - loss: 0.3245 - val_loss: 0.3536\n",
      "Epoch 66/100\n",
      "196/196 [==============================] - 5s 24ms/step - loss: 0.3236 - val_loss: 0.3603\n",
      "Epoch 67/100\n",
      "196/196 [==============================] - 5s 24ms/step - loss: 0.3236 - val_loss: 0.3544\n",
      "Epoch 68/100\n",
      "196/196 [==============================] - 5s 24ms/step - loss: 0.3214 - val_loss: 0.3548\n",
      "Epoch 69/100\n",
      "196/196 [==============================] - 5s 24ms/step - loss: 0.3216 - val_loss: 0.3578\n",
      "Epoch 70/100\n",
      "196/196 [==============================] - 5s 24ms/step - loss: 0.3197 - val_loss: 0.3559\n",
      "Epoch 71/100\n",
      "196/196 [==============================] - 5s 24ms/step - loss: 0.3202 - val_loss: 0.3603\n",
      "Epoch 72/100\n",
      "196/196 [==============================] - 5s 24ms/step - loss: 0.3201 - val_loss: 0.3586\n",
      "Epoch 73/100\n",
      "196/196 [==============================] - 5s 24ms/step - loss: 0.3198 - val_loss: 0.3572\n",
      "Epoch 74/100\n",
      "196/196 [==============================] - 5s 24ms/step - loss: 0.3185 - val_loss: 0.3567\n",
      "Epoch 75/100\n",
      "196/196 [==============================] - 5s 24ms/step - loss: 0.3167 - val_loss: 0.3560\n",
      "Epoch 76/100\n",
      "196/196 [==============================] - 5s 24ms/step - loss: 0.3161 - val_loss: 0.3533\n",
      "Epoch 77/100\n",
      "196/196 [==============================] - 5s 24ms/step - loss: 0.3147 - val_loss: 0.3558\n",
      "Epoch 78/100\n",
      "196/196 [==============================] - 5s 24ms/step - loss: 0.3141 - val_loss: 0.3539\n",
      "Epoch 79/100\n",
      "196/196 [==============================] - 5s 24ms/step - loss: 0.3141 - val_loss: 0.3576\n",
      "Epoch 80/100\n"
     ]
    },
    {
     "name": "stdout",
     "output_type": "stream",
     "text": [
      "196/196 [==============================] - 5s 24ms/step - loss: 0.3130 - val_loss: 0.3545\n",
      "Epoch 81/100\n",
      "196/196 [==============================] - 5s 24ms/step - loss: 0.3129 - val_loss: 0.3565\n",
      "Epoch 82/100\n",
      "196/196 [==============================] - 5s 24ms/step - loss: 0.3113 - val_loss: 0.3555\n",
      "Epoch 83/100\n",
      "196/196 [==============================] - 5s 24ms/step - loss: 0.3108 - val_loss: 0.3550\n",
      "Epoch 84/100\n",
      "196/196 [==============================] - 5s 24ms/step - loss: 0.3120 - val_loss: 0.3541\n",
      "Epoch 85/100\n",
      "196/196 [==============================] - 5s 24ms/step - loss: 0.3099 - val_loss: 0.3537\n",
      "Epoch 86/100\n",
      "196/196 [==============================] - 5s 24ms/step - loss: 0.3095 - val_loss: 0.3545\n",
      "Epoch 87/100\n",
      "196/196 [==============================] - 5s 24ms/step - loss: 0.3083 - val_loss: 0.3605\n",
      "Epoch 88/100\n",
      "196/196 [==============================] - 5s 24ms/step - loss: 0.3077 - val_loss: 0.3548\n",
      "Epoch 89/100\n",
      "196/196 [==============================] - 5s 24ms/step - loss: 0.3065 - val_loss: 0.3539\n",
      "Epoch 90/100\n",
      "196/196 [==============================] - 5s 24ms/step - loss: 0.3049 - val_loss: 0.3569\n",
      "Epoch 91/100\n",
      "196/196 [==============================] - 5s 24ms/step - loss: 0.3057 - val_loss: 0.3544\n",
      "Epoch 92/100\n",
      "196/196 [==============================] - 5s 24ms/step - loss: 0.3050 - val_loss: 0.3570\n",
      "Epoch 93/100\n",
      "196/196 [==============================] - 5s 24ms/step - loss: 0.3051 - val_loss: 0.3566\n",
      "Epoch 94/100\n",
      "196/196 [==============================] - 5s 24ms/step - loss: 0.3036 - val_loss: 0.3620\n",
      "Epoch 95/100\n",
      "196/196 [==============================] - 5s 24ms/step - loss: 0.3038 - val_loss: 0.3574\n",
      "Epoch 96/100\n",
      "196/196 [==============================] - 5s 24ms/step - loss: 0.3012 - val_loss: 0.3576\n",
      "Epoch 97/100\n",
      "196/196 [==============================] - 5s 24ms/step - loss: 0.3013 - val_loss: 0.3513\n",
      "Epoch 98/100\n",
      "196/196 [==============================] - 5s 24ms/step - loss: 0.2996 - val_loss: 0.3563\n",
      "Epoch 99/100\n",
      "196/196 [==============================] - 5s 24ms/step - loss: 0.2993 - val_loss: 0.3623\n",
      "Epoch 100/100\n",
      "196/196 [==============================] - 5s 24ms/step - loss: 0.2998 - val_loss: 0.3578\n"
     ]
    }
   ],
   "source": [
    "model_dm_direct.compile(\n",
    "    optimizer=keras.optimizers.Adam(learning_rate=1e-4),\n",
    "    loss=keras.losses.SparseCategoricalCrossentropy(from_logits=False)\n",
    ")\n",
    "history = model_dm_direct.fit(\n",
    "    X_train, y_train,\n",
    "    epochs=100,\n",
    "    batch_size=256,\n",
    "    validation_data=(X_val, y_val)\n",
    ")"
   ]
  },
  {
   "cell_type": "code",
   "execution_count": 20,
   "id": "223854c2",
   "metadata": {},
   "outputs": [
    {
     "data": {
      "text/plain": [
       "[<matplotlib.lines.Line2D at 0x71ddb0691870>]"
      ]
     },
     "execution_count": 20,
     "metadata": {},
     "output_type": "execute_result"
    },
    {
     "data": {
      "image/png": "[encoded data removed]",
      "text/plain": [
       "<Figure size 640x480 with 1 Axes>"
      ]
     },
     "metadata": {},
     "output_type": "display_data"
    }
   ],
   "source": [
    "plt.plot(history.history[\"loss\"])\n",
    "plt.plot(history.history[\"val_loss\"])"
   ]
  },
  {
   "cell_type": "code",
   "execution_count": 21,
   "id": "a6bc1042",
   "metadata": {},
   "outputs": [
    {
     "name": "stdout",
     "output_type": "stream",
     "text": [
      "Model: \"transformer_model_1\"\n",
      "_________________________________________________________________\n",
      " Layer (type)                Output Shape              Param #   \n",
      "=================================================================\n",
      " backbone (Functional)       (None, None, 128)         1318784   \n",
      "                                                                 \n",
      " decaymode_head (Functional  (None, 16)                1537168   \n",
      " )                                                               \n",
      "                                                                 \n",
      "=================================================================\n",
      "Total params: 1537168 (5.86 MB)\n",
      "Trainable params: 218384 (853.06 KB)\n",
      "Non-trainable params: 1318784 (5.03 MB)\n",
      "_________________________________________________________________\n"
     ]
    }
   ],
   "source": [
    "model_dm_bb.summary()"
   ]
  },
  {
   "cell_type": "code",
   "execution_count": null,
   "id": "2902ff21",
   "metadata": {},
   "outputs": [
    {
     "name": "stdout",
     "output_type": "stream",
     "text": [
      "Epoch 1/100\n",
      "196/196 [==============================] - 56s 244ms/step - loss: 1.2484 - val_loss: 0.9857\n",
      "Epoch 2/100\n",
      "196/196 [==============================] - 46s 235ms/step - loss: 0.8240 - val_loss: 0.7151\n",
      "Epoch 3/100\n",
      "196/196 [==============================] - 46s 235ms/step - loss: 0.6544 - val_loss: 0.6081\n",
      "Epoch 4/100\n",
      "196/196 [==============================] - 46s 235ms/step - loss: 0.5740 - val_loss: 0.5617\n",
      "Epoch 5/100\n",
      "196/196 [==============================] - 46s 235ms/step - loss: 0.5397 - val_loss: 0.5628\n",
      "Epoch 6/100\n",
      "196/196 [==============================] - 46s 235ms/step - loss: 0.5183 - val_loss: 0.5294\n",
      "Epoch 7/100\n",
      "196/196 [==============================] - 46s 235ms/step - loss: 0.5041 - val_loss: 0.4980\n",
      "Epoch 8/100\n",
      "196/196 [==============================] - 46s 235ms/step - loss: 0.4858 - val_loss: 0.4995\n",
      "Epoch 9/100\n",
      "196/196 [==============================] - 46s 235ms/step - loss: 0.4765 - val_loss: 0.4977\n",
      "Epoch 10/100\n",
      "196/196 [==============================] - 46s 236ms/step - loss: 0.4677 - val_loss: 0.4769\n",
      "Epoch 11/100\n",
      "196/196 [==============================] - 46s 235ms/step - loss: 0.4661 - val_loss: 0.5026\n",
      "Epoch 12/100\n",
      "196/196 [==============================] - 46s 236ms/step - loss: 0.4575 - val_loss: 0.5032\n",
      "Epoch 13/100\n",
      "196/196 [==============================] - 46s 235ms/step - loss: 0.4483 - val_loss: 0.4867\n",
      "Epoch 14/100\n",
      "196/196 [==============================] - 46s 236ms/step - loss: 0.4463 - val_loss: 0.4587\n",
      "Epoch 15/100\n",
      "196/196 [==============================] - 46s 236ms/step - loss: 0.4411 - val_loss: 0.4551\n",
      "Epoch 16/100\n",
      "196/196 [==============================] - 46s 235ms/step - loss: 0.4391 - val_loss: 0.4772\n",
      "Epoch 17/100\n",
      "196/196 [==============================] - 46s 236ms/step - loss: 0.4404 - val_loss: 0.4530\n",
      "Epoch 18/100\n",
      "196/196 [==============================] - 46s 235ms/step - loss: 0.4330 - val_loss: 0.4583\n",
      "Epoch 19/100\n",
      "196/196 [==============================] - 46s 236ms/step - loss: 0.4349 - val_loss: 0.4448\n",
      "Epoch 20/100\n",
      "196/196 [==============================] - 46s 236ms/step - loss: 0.4238 - val_loss: 0.4483\n",
      "Epoch 21/100\n",
      "196/196 [==============================] - 46s 236ms/step - loss: 0.4258 - val_loss: 0.4343\n",
      "Epoch 22/100\n",
      "196/196 [==============================] - 46s 236ms/step - loss: 0.4224 - val_loss: 0.5244\n",
      "Epoch 23/100\n",
      "196/196 [==============================] - 46s 235ms/step - loss: 0.4198 - val_loss: 0.4397\n",
      "Epoch 24/100\n",
      "196/196 [==============================] - 46s 235ms/step - loss: 0.4205 - val_loss: 0.4609\n",
      "Epoch 25/100\n",
      "196/196 [==============================] - 46s 236ms/step - loss: 0.4191 - val_loss: 0.4299\n",
      "Epoch 26/100\n",
      "196/196 [==============================] - 46s 235ms/step - loss: 0.4137 - val_loss: 0.4343\n",
      "Epoch 27/100\n",
      "196/196 [==============================] - 46s 236ms/step - loss: 0.4096 - val_loss: 0.4390\n",
      "Epoch 28/100\n",
      "196/196 [==============================] - 46s 236ms/step - loss: 0.4112 - val_loss: 0.4306\n",
      "Epoch 29/100\n",
      "196/196 [==============================] - 46s 236ms/step - loss: 0.4093 - val_loss: 0.4506\n",
      "Epoch 30/100\n",
      "196/196 [==============================] - 46s 236ms/step - loss: 0.4067 - val_loss: 0.4430\n",
      "Epoch 31/100\n",
      "145/196 [=====================>........] - ETA: 6s - loss: 0.4048"
     ]
    }
   ],
   "source": [
    "model_dm_bb.compile(\n",
    "    optimizer=keras.optimizers.Adam(learning_rate=1e-4),\n",
    "    loss=keras.losses.SparseCategoricalCrossentropy(from_logits=False)\n",
    ")\n",
    "history2 = model_dm_bb.fit(\n",
    "    X_train, y_train,\n",
    "    epochs=100,\n",
    "    batch_size=256,\n",
    "    validation_data=(X_val, y_val)\n",
    ")"
   ]
  },
  {
   "cell_type": "code",
   "execution_count": null,
   "id": "c0c6fbd9",
   "metadata": {},
   "outputs": [],
   "source": [
    "plt.plot(history2.history[\"loss\"])\n",
    "plt.plot(history2.history[\"val_loss\"])"
   ]
  },
  {
   "cell_type": "code",
   "execution_count": null,
   "id": "21b90291",
   "metadata": {},
   "outputs": [],
   "source": [
    "plt.plot(history.history[\"loss\"], label=\"direct\", color=\"black\")\n",
    "plt.plot(history2.history[\"loss\"], label=\"OmniLearn backbone\", color=\"red\")\n",
    "plt.legend()"
   ]
  },
  {
   "cell_type": "code",
   "execution_count": null,
   "id": "eb8049ec",
   "metadata": {},
   "outputs": [],
   "source": []
  }
 ],
 "metadata": {
  "kernelspec": {
   "display_name": "Python 3 (ipykernel)",
   "language": "python",
   "name": "python3"
  },
  "language_info": {
   "codemirror_mode": {
    "name": "ipython",
    "version": 3
   },
   "file_extension": ".py",
   "mimetype": "text/x-python",
   "name": "python",
   "nbconvert_exporter": "python",
   "pygments_lexer": "ipython3",
   "version": "3.10.12"
  }
 },
 "nbformat": 4,
 "nbformat_minor": 5
}
